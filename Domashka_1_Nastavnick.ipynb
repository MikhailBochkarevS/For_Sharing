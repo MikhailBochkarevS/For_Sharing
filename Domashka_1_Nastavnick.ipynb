{
 "cells": [
  {
   "cell_type": "markdown",
   "id": "e356ca8f",
   "metadata": {},
   "source": [
    "текст из пачки:\n",
    "Maрия Воробьёва [Наставник DS]\n",
    "11:13\n",
    "Всем привет! \n",
    "На консультации обещала вам, что буду давать дополнительные задачки по питону. \n",
    "\n",
    "Сегодня первая задача. \n",
    "Вам будет дан json файл, его надо загрузить и понять в какую структуру данных питона он превращается. После необходимо будет напечатать только те страны, которые содержат букву A. \n",
    "всем удачи! 😀\n",
    "countries.json\n",
    "9.5 КБ\n",
    "#Импортируем файл json через библиотеку pandas"
   ]
  },
  {
   "cell_type": "code",
   "execution_count": 1,
   "id": "5c411f13",
   "metadata": {},
   "outputs": [
    {
     "data": {
      "text/html": [
       "<div>\n",
       "<style scoped>\n",
       "    .dataframe tbody tr th:only-of-type {\n",
       "        vertical-align: middle;\n",
       "    }\n",
       "\n",
       "    .dataframe tbody tr th {\n",
       "        vertical-align: top;\n",
       "    }\n",
       "\n",
       "    .dataframe thead th {\n",
       "        text-align: right;\n",
       "    }\n",
       "</style>\n",
       "<table border=\"1\" class=\"dataframe\">\n",
       "  <thead>\n",
       "    <tr style=\"text-align: right;\">\n",
       "      <th></th>\n",
       "      <th>name</th>\n",
       "      <th>code</th>\n",
       "    </tr>\n",
       "  </thead>\n",
       "  <tbody>\n",
       "    <tr>\n",
       "      <th>0</th>\n",
       "      <td>Afghanistan</td>\n",
       "      <td>AF</td>\n",
       "    </tr>\n",
       "    <tr>\n",
       "      <th>1</th>\n",
       "      <td>land Islands</td>\n",
       "      <td>AX</td>\n",
       "    </tr>\n",
       "    <tr>\n",
       "      <th>2</th>\n",
       "      <td>Albania</td>\n",
       "      <td>AL</td>\n",
       "    </tr>\n",
       "    <tr>\n",
       "      <th>3</th>\n",
       "      <td>Algeria</td>\n",
       "      <td>DZ</td>\n",
       "    </tr>\n",
       "    <tr>\n",
       "      <th>4</th>\n",
       "      <td>American Samoa</td>\n",
       "      <td>AS</td>\n",
       "    </tr>\n",
       "  </tbody>\n",
       "</table>\n",
       "</div>"
      ],
      "text/plain": [
       "             name code\n",
       "0     Afghanistan   AF\n",
       "1    land Islands   AX\n",
       "2         Albania   AL\n",
       "3         Algeria   DZ\n",
       "4  American Samoa   AS"
      ]
     },
     "execution_count": 1,
     "metadata": {},
     "output_type": "execute_result"
    }
   ],
   "source": [
    "import pandas as pd\n",
    "countries_json = pd.read_json('countries.json')\n",
    "countries_json.head()"
   ]
  },
  {
   "cell_type": "code",
   "execution_count": 3,
   "id": "fa0ad629",
   "metadata": {},
   "outputs": [
    {
     "name": "stdout",
     "output_type": "stream",
     "text": [
      "<class 'pandas.core.frame.DataFrame'>\n",
      "RangeIndex: 244 entries, 0 to 243\n",
      "Data columns (total 2 columns):\n",
      " #   Column  Non-Null Count  Dtype \n",
      "---  ------  --------------  ----- \n",
      " 0   name    244 non-null    object\n",
      " 1   code    244 non-null    object\n",
      "dtypes: object(2)\n",
      "memory usage: 3.9+ KB\n"
     ]
    }
   ],
   "source": [
    "type(countries_json) # для того, чтобы понять в какую структуру данных питона превращается файл, я применил команду type(). \n",
    "# Ответ - в DataFrame\n",
    "# Также можно использовать команду info:\n",
    "countries_json.info()"
   ]
  },
  {
   "cell_type": "code",
   "execution_count": 39,
   "id": "9cf5c4ee",
   "metadata": {
    "scrolled": true
   },
   "outputs": [
    {
     "name": "stdout",
     "output_type": "stream",
     "text": [
      "0            Afghanistan\n",
      "1           land Islands\n",
      "2                Albania\n",
      "3                Algeria\n",
      "4         American Samoa\n",
      "             ...        \n",
      "239    Wallis and Futuna\n",
      "240       Western Sahara\n",
      "241                Yemen\n",
      "242               Zambia\n",
      "243             Zimbabwe\n",
      "Name: name, Length: 244, dtype: object\n"
     ]
    }
   ],
   "source": [
    "if 'a' in str(countries_json['name']): # ищем в колонке 'name' в датафрейме countries_json бувку 'а'\n",
    "    print(countries_json['name']) # выводим на экран значение из колонки 'name датафрейма countries_json, в котором есть буква 'a'\n",
    "else: \n",
    "    print('Нет стран, в названии которых есть буква А') # если таковых значений нет, то выводим сообщение на жкран"
   ]
  },
  {
   "cell_type": "code",
   "execution_count": null,
   "id": "2df3aa45",
   "metadata": {},
   "outputs": [],
   "source": []
  }
 ],
 "metadata": {
  "kernelspec": {
   "display_name": "Python 3 (ipykernel)",
   "language": "python",
   "name": "python3"
  },
  "language_info": {
   "codemirror_mode": {
    "name": "ipython",
    "version": 3
   },
   "file_extension": ".py",
   "mimetype": "text/x-python",
   "name": "python",
   "nbconvert_exporter": "python",
   "pygments_lexer": "ipython3",
   "version": "3.10.9"
  }
 },
 "nbformat": 4,
 "nbformat_minor": 5
}
